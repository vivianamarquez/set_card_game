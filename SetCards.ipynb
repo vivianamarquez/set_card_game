{
 "cells": [
  {
   "cell_type": "markdown",
   "id": "9b7ebf8d-8023-4e08-86ae-8a13e6db9863",
   "metadata": {},
   "source": [
    "# Get all sets"
   ]
  },
  {
   "cell_type": "code",
   "execution_count": 1,
   "id": "5dc4b926-d3ea-41a6-87d2-85ab5131c5f3",
   "metadata": {},
   "outputs": [],
   "source": [
    "import itertools\n",
    "from collections import namedtuple"
   ]
  },
  {
   "cell_type": "code",
   "execution_count": 2,
   "id": "106605a4-e1de-41d1-8fcb-f435375fe466",
   "metadata": {},
   "outputs": [],
   "source": [
    "# card namedtuple type\n",
    "Card = namedtuple('card', ['color', 'number', 'shape', 'shade'])"
   ]
  },
  {
   "cell_type": "code",
   "execution_count": 3,
   "id": "9a63bbf2-62d6-4fde-a7e2-e84e6eb528ea",
   "metadata": {},
   "outputs": [],
   "source": [
    "# characteristics\n",
    "colors = ['purple', 'green', 'red']\n",
    "numbers = ['one', 'two', 'three']\n",
    "shapes = ['diamond', 'squiggle', 'oval']\n",
    "shades = ['solid', 'striped', 'open']"
   ]
  },
  {
   "cell_type": "code",
   "execution_count": 4,
   "id": "6ad1d294-67aa-472a-aab4-15aef147dc58",
   "metadata": {},
   "outputs": [],
   "source": [
    "# create all cards \n",
    "all_cards = {\n",
    "    Card(color=color, number=number, shape=shape, shade=shade)\n",
    "    for color in colors\n",
    "    for number in numbers\n",
    "    for shape in shapes\n",
    "    for shade in shades\n",
    "}"
   ]
  },
  {
   "cell_type": "code",
   "execution_count": 5,
   "id": "044596bc-ff27-4542-8b14-cf8ff358013b",
   "metadata": {},
   "outputs": [
    {
     "name": "stdout",
     "output_type": "stream",
     "text": [
      "There are 81 cards in total.\n"
     ]
    }
   ],
   "source": [
    "print(f\"There are {len(all_cards)} cards in total.\")"
   ]
  },
  {
   "cell_type": "code",
   "execution_count": 6,
   "id": "3c5666ad-f85a-47ec-8de9-c573c0e3f6aa",
   "metadata": {},
   "outputs": [],
   "source": [
    "all_cards_list = list(all_cards)\n",
    "possible_sets = list(itertools.combinations(all_cards_list, 3))"
   ]
  },
  {
   "cell_type": "code",
   "execution_count": 7,
   "id": "e42acffb-f430-4580-ae3d-50e9ae8b58f2",
   "metadata": {},
   "outputs": [
    {
     "name": "stdout",
     "output_type": "stream",
     "text": [
      "There are 85,320 different 3 card combinations in total.\n"
     ]
    }
   ],
   "source": [
    "print(f\"There are {len(possible_sets):,} different 3 card combinations in total.\")"
   ]
  },
  {
   "cell_type": "code",
   "execution_count": 8,
   "id": "b45f7531-2f82-4641-ab72-5be05779eb6d",
   "metadata": {},
   "outputs": [],
   "source": [
    "def check_if_valid(candidate_set):\n",
    "    set_colors = set()\n",
    "    set_numbers = set()\n",
    "    set_shapes = set()\n",
    "    set_shades = set()\n",
    "    \n",
    "    for card in candidate_set:\n",
    "        set_colors.add(card.color)\n",
    "        set_numbers.add(card.number)\n",
    "        set_shapes.add(card.shape)\n",
    "        set_shades.add(card.shade)\n",
    "\n",
    "    set_totals = {len(set_colors), len(set_numbers), len(set_shapes), len(set_shades)}\n",
    "    \n",
    "    if set_totals in [{1},{3},{1,3}]:\n",
    "        return True\n",
    "    \n",
    "    return False"
   ]
  },
  {
   "cell_type": "code",
   "execution_count": 12,
   "id": "8d04ce6b-1096-44f7-8289-def359c2ac57",
   "metadata": {},
   "outputs": [],
   "source": [
    "valid_sets, invalid_sets = set(), set()\n",
    "\n",
    "for candidate_set in possible_sets:\n",
    "    (valid_sets if check_if_valid(candidate_set) else invalid_sets).add(candidate_set)"
   ]
  },
  {
   "cell_type": "code",
   "execution_count": 13,
   "id": "cc3f7fd1-32e9-4d71-b46a-5c348c645782",
   "metadata": {},
   "outputs": [],
   "source": [
    "assert len(valid_sets)+len(invalid_sets) == len(possible_sets)"
   ]
  },
  {
   "cell_type": "code",
   "execution_count": 14,
   "id": "361e63ae-b94a-4873-864d-cd7f0f85e06b",
   "metadata": {},
   "outputs": [
    {
     "name": "stdout",
     "output_type": "stream",
     "text": [
      "There are 1,080 valid sets and 84,240 invalid sets.\n"
     ]
    }
   ],
   "source": [
    "print(f\"There are {len(valid_sets):,} valid sets and {len(invalid_sets):,} invalid sets.\")"
   ]
  },
  {
   "cell_type": "markdown",
   "id": "5c69a72c-6a6b-44c3-be87-11a1ba8531d9",
   "metadata": {},
   "source": [
    "# Detect cards on a table"
   ]
  },
  {
   "cell_type": "code",
   "execution_count": 15,
   "id": "ac7b4065-9213-4a6e-bd88-6d554e3993f0",
   "metadata": {},
   "outputs": [
    {
     "ename": "ModuleNotFoundError",
     "evalue": "No module named 'cv2'",
     "output_type": "error",
     "traceback": [
      "\u001b[0;31m---------------------------------------------------------------------------\u001b[0m",
      "\u001b[0;31mModuleNotFoundError\u001b[0m                       Traceback (most recent call last)",
      "Cell \u001b[0;32mIn[15], line 1\u001b[0m\n\u001b[0;32m----> 1\u001b[0m \u001b[38;5;28;01mimport\u001b[39;00m \u001b[38;5;21;01mcv2\u001b[39;00m\n\u001b[1;32m      2\u001b[0m \u001b[38;5;28;01mimport\u001b[39;00m \u001b[38;5;21;01mnumpy\u001b[39;00m \u001b[38;5;28;01mas\u001b[39;00m \u001b[38;5;21;01mnp\u001b[39;00m\n",
      "\u001b[0;31mModuleNotFoundError\u001b[0m: No module named 'cv2'"
     ]
    }
   ],
   "source": [
    "import cv2\n",
    "import numpy as np"
   ]
  },
  {
   "cell_type": "code",
   "execution_count": 16,
   "id": "5c8d4b67-3b36-492a-9de1-521f6c9286a0",
   "metadata": {},
   "outputs": [
    {
     "name": "stdout",
     "output_type": "stream",
     "text": [
      "# conda environments:\n",
      "#\n",
      "base                  *  /Users/vivianamarquez/anaconda3\n",
      "c1_da                    /Users/vivianamarquez/anaconda3/envs/c1_da\n",
      "c1sql                    /Users/vivianamarquez/anaconda3/envs/c1sql\n",
      "pytorch_env              /Users/vivianamarquez/anaconda3/envs/pytorch_env\n",
      "rl_moonmerge             /Users/vivianamarquez/anaconda3/envs/rl_moonmerge\n",
      "\n"
     ]
    }
   ],
   "source": [
    "! conda env list"
   ]
  },
  {
   "cell_type": "code",
   "execution_count": null,
   "id": "0975ca3f-e95e-4dc1-a78e-ac088ad67f8c",
   "metadata": {},
   "outputs": [],
   "source": []
  }
 ],
 "metadata": {
  "kernelspec": {
   "display_name": "Python 3 (ipykernel)",
   "language": "python",
   "name": "python3"
  },
  "language_info": {
   "codemirror_mode": {
    "name": "ipython",
    "version": 3
   },
   "file_extension": ".py",
   "mimetype": "text/x-python",
   "name": "python",
   "nbconvert_exporter": "python",
   "pygments_lexer": "ipython3",
   "version": "3.11.5"
  }
 },
 "nbformat": 4,
 "nbformat_minor": 5
}
