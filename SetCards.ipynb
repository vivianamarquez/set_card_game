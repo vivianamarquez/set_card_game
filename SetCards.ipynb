{
 "cells": [
  {
   "cell_type": "markdown",
   "id": "9b7ebf8d-8023-4e08-86ae-8a13e6db9863",
   "metadata": {},
   "source": [
    "# Get all sets"
   ]
  },
  {
   "cell_type": "code",
   "execution_count": 37,
   "id": "5dc4b926-d3ea-41a6-87d2-85ab5131c5f3",
   "metadata": {},
   "outputs": [],
   "source": [
    "import itertools\n",
    "from collections import namedtuple"
   ]
  },
  {
   "cell_type": "code",
   "execution_count": 38,
   "id": "106605a4-e1de-41d1-8fcb-f435375fe466",
   "metadata": {},
   "outputs": [],
   "source": [
    "# card namedtuple type\n",
    "Card = namedtuple('card', ['number', 'color', 'shape', 'shade'])"
   ]
  },
  {
   "cell_type": "code",
   "execution_count": 39,
   "id": "9a63bbf2-62d6-4fde-a7e2-e84e6eb528ea",
   "metadata": {},
   "outputs": [],
   "source": [
    "# characteristics\n",
    "numbers = ['one', 'two', 'three']\n",
    "colors = ['green', 'purple', 'red']\n",
    "shapes = ['diamond', 'squiggle', 'oval']\n",
    "shades = ['open', 'solid', 'striped']"
   ]
  },
  {
   "cell_type": "code",
   "execution_count": 40,
   "id": "6ad1d294-67aa-472a-aab4-15aef147dc58",
   "metadata": {},
   "outputs": [],
   "source": [
    "# create all cards \n",
    "all_cards = {\n",
    "    Card(number=number, color=color, shape=shape, shade=shade)\n",
    "    for number in numbers\n",
    "    for color in colors\n",
    "    for shape in shapes\n",
    "    for shade in shades\n",
    "}"
   ]
  },
  {
   "cell_type": "code",
   "execution_count": 41,
   "id": "044596bc-ff27-4542-8b14-cf8ff358013b",
   "metadata": {},
   "outputs": [
    {
     "name": "stdout",
     "output_type": "stream",
     "text": [
      "There are 81 cards in total.\n"
     ]
    }
   ],
   "source": [
    "print(f\"There are {len(all_cards)} cards in total.\")"
   ]
  },
  {
   "cell_type": "code",
   "execution_count": 42,
   "id": "3c5666ad-f85a-47ec-8de9-c573c0e3f6aa",
   "metadata": {},
   "outputs": [],
   "source": [
    "all_cards_list = list(all_cards)\n",
    "possible_sets = list(itertools.combinations(all_cards_list, 3))"
   ]
  },
  {
   "cell_type": "code",
   "execution_count": 43,
   "id": "e42acffb-f430-4580-ae3d-50e9ae8b58f2",
   "metadata": {},
   "outputs": [
    {
     "name": "stdout",
     "output_type": "stream",
     "text": [
      "There are 85,320 different 3 card combinations in total.\n"
     ]
    }
   ],
   "source": [
    "print(f\"There are {len(possible_sets):,} different 3 card combinations in total.\")"
   ]
  },
  {
   "cell_type": "code",
   "execution_count": 44,
   "id": "b45f7531-2f82-4641-ab72-5be05779eb6d",
   "metadata": {},
   "outputs": [],
   "source": [
    "def check_if_valid(candidate_set):\n",
    "    set_numbers = set()\n",
    "    set_colors = set()\n",
    "    set_shapes = set()\n",
    "    set_shades = set()\n",
    "    \n",
    "    for card in candidate_set:\n",
    "        set_numbers.add(card.number)\n",
    "        set_colors.add(card.color)\n",
    "        set_shapes.add(card.shape)\n",
    "        set_shades.add(card.shade)\n",
    "\n",
    "    set_totals = {len(set_numbers), len(set_colors), len(set_shapes), len(set_shades)}\n",
    "    \n",
    "    if set_totals in [{1},{3},{1,3}]:\n",
    "        return True\n",
    "    \n",
    "    return False"
   ]
  },
  {
   "cell_type": "code",
   "execution_count": 45,
   "id": "8d04ce6b-1096-44f7-8289-def359c2ac57",
   "metadata": {},
   "outputs": [],
   "source": [
    "valid_sets, invalid_sets = set(), set()\n",
    "\n",
    "for candidate_set in possible_sets:\n",
    "    (valid_sets if check_if_valid(candidate_set) else invalid_sets).add(candidate_set)"
   ]
  },
  {
   "cell_type": "code",
   "execution_count": 46,
   "id": "cc3f7fd1-32e9-4d71-b46a-5c348c645782",
   "metadata": {},
   "outputs": [],
   "source": [
    "assert len(valid_sets)+len(invalid_sets) == len(possible_sets)"
   ]
  },
  {
   "cell_type": "code",
   "execution_count": 47,
   "id": "361e63ae-b94a-4873-864d-cd7f0f85e06b",
   "metadata": {},
   "outputs": [
    {
     "name": "stdout",
     "output_type": "stream",
     "text": [
      "There are 1,080 valid sets and 84,240 invalid sets.\n"
     ]
    }
   ],
   "source": [
    "print(f\"There are {len(valid_sets):,} valid sets and {len(invalid_sets):,} invalid sets.\")"
   ]
  },
  {
   "cell_type": "markdown",
   "id": "5c69a72c-6a6b-44c3-be87-11a1ba8531d9",
   "metadata": {},
   "source": [
    "# Get training dataset for DL task \n",
    "Dataset obtained from Kaggle: https://www.kaggle.com/datasets/kwisatzhaderach/set-cards"
   ]
  },
  {
   "cell_type": "code",
   "execution_count": 73,
   "id": "e2d173fa-516d-44e1-bb25-28b006917a5c",
   "metadata": {},
   "outputs": [],
   "source": [
    "import os"
   ]
  },
  {
   "cell_type": "code",
   "execution_count": 76,
   "id": "00eb601a-8b3e-40dc-bc14-3a6fc1459f31",
   "metadata": {},
   "outputs": [],
   "source": [
    "def print_folder_tree(base_dir, indent=''):\n",
    "    items = os.listdir(base_dir)\n",
    "    \n",
    "    items = [item for item in items if os.path.isdir(os.path.join(base_dir, item))]\n",
    "    \n",
    "    for index, item in enumerate(items):\n",
    "        item_path = os.path.join(base_dir, item)\n",
    "        is_last = index == len(items) - 1\n",
    "        \n",
    "        if is_last:\n",
    "            print(indent + '└── ' + item)\n",
    "            new_indent = indent + '    '\n",
    "        else:\n",
    "            print(indent + '├── ' + item)\n",
    "            new_indent = indent + '│   '\n",
    "        \n",
    "        print_folder_tree(item_path, new_indent)"
   ]
  },
  {
   "cell_type": "code",
   "execution_count": 78,
   "id": "c60bfae7-b52f-427e-bbc3-7fe59fcd07ef",
   "metadata": {},
   "outputs": [
    {
     "name": "stdout",
     "output_type": "stream",
     "text": [
      "├── one\n",
      "│   ├── green\n",
      "│   │   ├── diamond\n",
      "│   │   │   ├── solid\n",
      "│   │   │   ├── striped\n",
      "│   │   │   └── open\n",
      "│   │   ├── squiggle\n",
      "│   │   │   ├── solid\n",
      "│   │   │   ├── striped\n",
      "│   │   │   └── open\n",
      "│   │   └── oval\n",
      "│   │       ├── solid\n",
      "│   │       ├── striped\n",
      "│   │       └── open\n",
      "│   ├── red\n",
      "│   │   ├── diamond\n",
      "│   │   │   ├── solid\n",
      "│   │   │   ├── striped\n",
      "│   │   │   └── open\n",
      "│   │   ├── squiggle\n",
      "│   │   │   ├── solid\n",
      "│   │   │   ├── striped\n",
      "│   │   │   └── open\n",
      "│   │   └── oval\n",
      "│   │       ├── solid\n",
      "│   │       ├── striped\n",
      "│   │       └── open\n",
      "│   └── purple\n",
      "│       ├── diamond\n",
      "│       │   ├── solid\n",
      "│       │   ├── striped\n",
      "│       │   └── open\n",
      "│       ├── squiggle\n",
      "│       │   ├── solid\n",
      "│       │   ├── striped\n",
      "│       │   └── open\n",
      "│       └── oval\n",
      "│           ├── solid\n",
      "│           ├── striped\n",
      "│           └── open\n",
      "├── zthree\n",
      "│   ├── green\n",
      "│   │   ├── diamond\n",
      "│   │   │   ├── solid\n",
      "│   │   │   ├── striped\n",
      "│   │   │   └── open\n",
      "│   │   ├── squiggle\n",
      "│   │   │   ├── solid\n",
      "│   │   │   ├── striped\n",
      "│   │   │   └── open\n",
      "│   │   └── oval\n",
      "│   │       ├── solid\n",
      "│   │       ├── striped\n",
      "│   │       └── open\n",
      "│   ├── red\n",
      "│   │   ├── diamond\n",
      "│   │   │   ├── solid\n",
      "│   │   │   ├── striped\n",
      "│   │   │   └── open\n",
      "│   │   ├── squiggle\n",
      "│   │   │   ├── solid\n",
      "│   │   │   ├── striped\n",
      "│   │   │   └── open\n",
      "│   │   └── oval\n",
      "│   │       ├── solid\n",
      "│   │       ├── striped\n",
      "│   │       └── open\n",
      "│   └── purple\n",
      "│       ├── diamond\n",
      "│       │   ├── solid\n",
      "│       │   ├── striped\n",
      "│       │   └── open\n",
      "│       ├── squiggle\n",
      "│       │   ├── solid\n",
      "│       │   ├── striped\n",
      "│       │   └── open\n",
      "│       └── oval\n",
      "│           ├── solid\n",
      "│           ├── striped\n",
      "│           └── open\n",
      "└── two\n",
      "    ├── green\n",
      "    │   ├── diamond\n",
      "    │   │   ├── solid\n",
      "    │   │   ├── striped\n",
      "    │   │   └── open\n",
      "    │   ├── squiggle\n",
      "    │   │   ├── solid\n",
      "    │   │   ├── striped\n",
      "    │   │   └── open\n",
      "    │   └── oval\n",
      "    │       ├── solid\n",
      "    │       ├── striped\n",
      "    │       └── open\n",
      "    ├── red\n",
      "    │   ├── diamond\n",
      "    │   │   ├── solid\n",
      "    │   │   ├── striped\n",
      "    │   │   └── open\n",
      "    │   ├── squiggle\n",
      "    │   │   ├── solid\n",
      "    │   │   ├── striped\n",
      "    │   │   └── open\n",
      "    │   └── oval\n",
      "    │       ├── solid\n",
      "    │       ├── striped\n",
      "    │       └── open\n",
      "    └── purple\n",
      "        ├── diamond\n",
      "        │   ├── solid\n",
      "        │   ├── striped\n",
      "        │   └── open\n",
      "        ├── squiggle\n",
      "        │   ├── solid\n",
      "        │   ├── striped\n",
      "        │   └── open\n",
      "        └── oval\n",
      "            ├── solid\n",
      "            ├── striped\n",
      "            └── open\n"
     ]
    }
   ],
   "source": [
    "base_dir = 'dataset'\n",
    "print_folder_tree(base_dir)"
   ]
  },
  {
   "cell_type": "markdown",
   "id": "5118445c-d3f6-4df5-9056-30d76fefc530",
   "metadata": {},
   "source": [
    "# Create a Custom Dataset Class"
   ]
  },
  {
   "cell_type": "code",
   "execution_count": 79,
   "id": "02f4fd16-b71d-416b-b6b3-a4e1d27fb12a",
   "metadata": {},
   "outputs": [],
   "source": [
    "import os\n",
    "import torch\n",
    "from torch.utils.data import Dataset\n",
    "from torchvision import transforms\n",
    "from PIL import Image"
   ]
  },
  {
   "cell_type": "code",
   "execution_count": 80,
   "id": "dc8fbdb3-a246-4729-8849-6fd05fd514c0",
   "metadata": {},
   "outputs": [],
   "source": [
    "class CardDataset(Dataset):\n",
    "    def __init__(self, root_dir, transform=None):\n",
    "        self.root_dir = root_dir\n",
    "        self.transform = transform\n",
    "        self.classes = sorted(os.listdir(root_dir))\n",
    "        self.image_paths = []\n",
    "        self.labels = []\n",
    "\n",
    "        for label, class_name in enumerate(self.classes):\n",
    "            class_dir = os.path.join(root_dir, class_name)\n",
    "            for root, _, files in os.walk(class_dir):\n",
    "                for file in files:\n",
    "                    if file.endswith('png'):\n",
    "                        self.image_paths.append(os.path.join(root, file))\n",
    "                        self.labels.append(label)\n",
    "\n",
    "    def __len__(self):\n",
    "        return len(self.image_paths)\n",
    "\n",
    "    def __getitem__(self, idx):\n",
    "        img_path = self.image_paths[idx]\n",
    "        image = Image.open(img_path).convert(\"RGB\")\n",
    "        label = self.labels[idx]\n",
    "\n",
    "        if self.transform:\n",
    "            image = self.transform(image)\n",
    "\n",
    "        return image, label"
   ]
  },
  {
   "cell_type": "code",
   "execution_count": null,
   "id": "a3d1102a-498e-4d33-b0b5-d2e1616a9d1c",
   "metadata": {},
   "outputs": [],
   "source": []
  }
 ],
 "metadata": {
  "kernelspec": {
   "display_name": "Python 3 (ipykernel)",
   "language": "python",
   "name": "python3"
  },
  "language_info": {
   "codemirror_mode": {
    "name": "ipython",
    "version": 3
   },
   "file_extension": ".py",
   "mimetype": "text/x-python",
   "name": "python",
   "nbconvert_exporter": "python",
   "pygments_lexer": "ipython3",
   "version": "3.12.4"
  }
 },
 "nbformat": 4,
 "nbformat_minor": 5
}
